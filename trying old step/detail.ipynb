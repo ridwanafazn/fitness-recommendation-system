{
 "cells": [
  {
   "cell_type": "code",
   "execution_count": null,
   "id": "e9220f71",
   "metadata": {},
   "outputs": [],
   "source": [
    "%pip install selenium"
   ]
  },
  {
   "cell_type": "code",
   "execution_count": null,
   "id": "79c49372",
   "metadata": {},
   "outputs": [
    {
     "name": "stdout",
     "output_type": "stream",
     "text": [
      "Exercise: Cable Seated Wide-grip Row\n",
      "Equipment: ['Cable']\n",
      "Body Part: ['Back']\n",
      "Primary Muscles: ['Infraspinatus', 'Latissimus Dorsi', 'Teres Major', 'Teres Minor', 'Trapezius Lower Fibers', 'Trapezius Middle Fibers']\n",
      "Secondary Muscles: ['Brachialis', 'Brachioradialis', 'Deltoid Posterior']\n"
     ]
    }
   ],
   "source": [
    "import requests\n",
    "from bs4 import BeautifulSoup\n",
    "\n",
    "url = 'https://lyfta.app/ex/6fi'  # Ganti dengan slug exercise yang diinginkan\n",
    "\n",
    "response = requests.get(url)\n",
    "soup = BeautifulSoup(response.text, 'html.parser')\n",
    "\n",
    "def extract_tag(label):\n",
    "    span = soup.find('span', string=label)\n",
    "    if not span:Exercise: Cable Seated Wide-grip Row\n",
    "Equipment: ['Cable']\n",
    "Body Part: ['Back']\n",
    "Primary Muscles: ['Infraspinatus', 'Latissimus Dorsi', 'Teres Major', 'Teres Minor', 'Trapezius Lower Fibers', 'Trapezius Middle Fibers']\n",
    "Secondary Muscles: ['Brachialis', 'Brachioradialis', 'Deltoid Posterior']\n",
    "        return []\n",
    "    parent_div = span.find_parent('div', class_='exerciseDetails_flex-center__5ghE8')\n",
    "    if not parent_div:\n",
    "        return []\n",
    "    tag_container = parent_div.find('div', class_='exerciseDetails_tag-container__qmsin')\n",
    "    if not tag_container:\n",
    "        return []\n",
    "    buttons = tag_container.find_all('button')\n",
    "    return [btn.text.strip() for btn in buttons]\n",
    "\n",
    "exercise_name_tag = soup.find('h1', class_='exerciseDetails_ex-details-sub-header2__gOz0l')\n",
    "exercise_name = exercise_name_tag.text.strip() if exercise_name_tag else None\n",
    "\n",
    "equipment = extract_tag('Equipment: ')\n",
    "body_part = extract_tag('Body Part: ')\n",
    "primary_muscles = extract_tag('Primary Muscles: ')\n",
    "secondary_muscles = extract_tag('Secondary Muscles: ')\n",
    "\n",
    "print(\"Exercise:\", exercise_name)\n",
    "print(\"Equipment:\", equipment)\n",
    "print(\"Body Part:\", body_part)\n",
    "print(\"Primary Muscles:\", primary_muscles)\n",
    "print(\"Secondary Muscles:\", secondary_muscles)"
   ]
  }
 ],
 "metadata": {
  "kernelspec": {
   "display_name": "ridwanafazn",
   "language": "python",
   "name": "ridwanafazn"
  },
  "language_info": {
   "codemirror_mode": {
    "name": "ipython",
    "version": 3
   },
   "file_extension": ".py",
   "mimetype": "text/x-python",
   "name": "python",
   "nbconvert_exporter": "python",
   "pygments_lexer": "ipython3",
   "version": "3.12.2"
  }
 },
 "nbformat": 4,
 "nbformat_minor": 5
}

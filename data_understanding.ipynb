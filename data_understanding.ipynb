{
 "cells": [
  {
   "cell_type": "code",
   "execution_count": 14,
   "id": "f0d5b4e3",
   "metadata": {},
   "outputs": [
    {
     "name": "stdout",
     "output_type": "stream",
     "text": [
      "     exercise_id                  exercise_name      exercise_type                                     exercise_image main_muscle\n",
      "0           3518           Stationary Bike Run   distance_duration  https://apilyfta.com/static/GymvisualPNG/22791...      cardio\n",
      "25         27979  Dumbbell Standing Arms Rotate  db_2_simultaneous  https://apilyfta.com/static/GymvisualPNG/62671...    forearms\n",
      "97           295               Smith Calf Raise        weight_reps  https://apilyfta.com/static/GymvisualPNG/11641...      calves\n",
      "146            7                       Deadlift        weight_reps  https://apilyfta.com/static/GymvisualPNG/00321...        hips\n",
      "199         1567  Barbell Straight Leg Deadlift        weight_reps  https://apilyfta.com/static/GymvisualPNG/01161...   hamstring\n",
      "222          262                    Triceps Dip    full_bodyweight  https://apilyfta.com/static/GymvisualPNG/08141...     triceps\n",
      "297          134                    Hammer Curl  db_2_simultaneous  https://apilyfta.com/static/GymvisualPNG/03121...      biceps\n",
      "388          145                  Lateral Raise  db_2_simultaneous  https://apilyfta.com/static/GymvisualPNG/03341...   shoulders\n",
      "450         4131                      Scissors         weight_reps  https://apilyfta.com/static/GymvisualPNG/28931...         abs\n",
      "515          212            Lever Leg Extension        weight_reps  https://apilyfta.com/static/GymvisualPNG/05851...  quadriceps\n",
      "586        28040      Cable Single Arm High Row        weight_reps                                                NaN        back\n",
      "666          275             Lever Pec Deck Fly        weight_reps  https://apilyfta.com/static/GymvisualPNG/10301...       chest\n",
      "744          288             Lying Neck Flexion        weight_reps  https://apilyfta.com/static/GymvisualPNG/10431...        neck\n"
     ]
    }
   ],
   "source": [
    "import pandas as pd\n",
    "\n",
    "df = pd.read_csv('exercise.csv')\n",
    "\n",
    "df_unique = df.drop_duplicates(subset=['main_muscle'], keep='first')\n",
    "\n",
    "pd.set_option('display.max_columns', None)\n",
    "pd.set_option('display.width', 1000)\n",
    "\n",
    "print(df_unique)"
   ]
  },
  {
   "cell_type": "code",
   "execution_count": null,
   "id": "6e0a95c9",
   "metadata": {},
   "outputs": [],
   "source": [
    "%pip install fuzzywuzzy"
   ]
  },
  {
   "cell_type": "code",
   "execution_count": 18,
   "id": "e7fee74e",
   "metadata": {},
   "outputs": [
    {
     "name": "stdout",
     "output_type": "stream",
     "text": [
      "     exercise_id                        exercise_name      exercise_type                                     exercise_image main_muscle\n",
      "0           3518                 Stationary Bike Run   distance_duration  https://apilyfta.com/static/GymvisualPNG/22791...      cardio\n",
      "1           4906                      Skip Jump Rope            duration  https://apilyfta.com/static/GymvisualPNG/36761...      cardio\n",
      "2           1962                            Jump Rope           duration  https://apilyfta.com/static/GymvisualPNG/05111...      cardio\n",
      "3           2136                                  Run  distance_duration  https://apilyfta.com/static/GymvisualPNG/06851...      cardio\n",
      "4           3499                 Walking on Treadmill  distance_duration  https://apilyfta.com/static/GymvisualPNG/22591...      cardio\n",
      "..           ...                                  ...                ...                                                ...         ...\n",
      "775        27570  Roll Neck Decompress Lying on Floor           duration  https://apilyfta.com/static/GymvisualPNG/53721...        neck\n",
      "776         5430                      Tiger Tail Neck        weight_reps  https://apilyfta.com/static/GymvisualPNG/42221...        neck\n",
      "777        27405                     Seated Chin Tuck        weight_reps  https://apilyfta.com/static/GymvisualPNG/50631...        neck\n",
      "778        47288              5 Sec Fist Against Chin        weight_reps  https://apilyfta.com/static/GymvisualPNG/64071...        neck\n",
      "779        46722           Standing Side Neck Stretch           duration  https://apilyfta.com/static/GymvisualPNG/73061...        neck\n",
      "\n",
      "[648 rows x 5 columns]\n"
     ]
    }
   ],
   "source": [
    "import pandas as pd\n",
    "from fuzzywuzzy import fuzz\n",
    "\n",
    "# Load data\n",
    "df = pd.read_csv('exercise.csv')\n",
    "\n",
    "# Fungsi bantu untuk menggabungkan main_muscle unik jadi string\n",
    "def combine_muscles(muscle_series):\n",
    "    return ', '.join(sorted(muscle_series.unique()))\n",
    "\n",
    "# List untuk menampung hasil final\n",
    "final_rows = []\n",
    "\n",
    "# Ambil semua index yang belum diproses\n",
    "unprocessed = set(df.index)\n",
    "\n",
    "while unprocessed:\n",
    "    current_idx = unprocessed.pop()\n",
    "    current_row = df.loc[current_idx]\n",
    "    current_name = current_row['exercise_name']\n",
    "    \n",
    "    # Cari baris yang mirip dengan current_name (>=95%)\n",
    "    similar_idxs = []\n",
    "    for idx in list(unprocessed):\n",
    "        other_name = df.loc[idx, 'exercise_name']\n",
    "        score = fuzz.ratio(current_name.lower(), other_name.lower())\n",
    "        if score >= 95:\n",
    "            similar_idxs.append(idx)\n",
    "    \n",
    "    # Masukkan current_idx juga ke daftar group\n",
    "    group_idxs = [current_idx] + similar_idxs\n",
    "    \n",
    "    # Gabungkan main_muscle unik dari group ini\n",
    "    muscles = df.loc[group_idxs, 'main_muscle']\n",
    "    combined_muscles = combine_muscles(muscles)\n",
    "    \n",
    "    # Ambil data dari current_row tapi update main_muscle\n",
    "    new_row = current_row.copy()\n",
    "    new_row['main_muscle'] = combined_muscles\n",
    "    \n",
    "    final_rows.append(new_row)\n",
    "    \n",
    "    # Hapus idx yang sudah diproses dari unprocessed\n",
    "    unprocessed -= set(similar_idxs)\n",
    "\n",
    "# Buat DataFrame baru hasil dedup dan gabungan main_muscle\n",
    "df_final = pd.DataFrame(final_rows)\n",
    "\n",
    "# Save ke CSV baru\n",
    "df_final.to_csv('exercise_dedup_fuzzy.csv', index=False)\n",
    "\n",
    "print(df_final)"
   ]
  },
  {
   "cell_type": "code",
   "execution_count": 19,
   "id": "f182d048",
   "metadata": {},
   "outputs": [
    {
     "name": "stdout",
     "output_type": "stream",
     "text": [
      "Total data latihan: 648\n",
      "Jumlah pasangan nama mirip (≥95%): 0\n",
      "\n",
      "Jumlah data dengan main_muscle tunggal: 637\n",
      "Jumlah data dengan main_muscle lebih dari satu: 11\n",
      "\n",
      "Latihan dengan main_muscle lebih dari satu:\n",
      "                       exercise_name       main_muscle\n",
      "21            Cross Body Hammer Curl  biceps, forearms\n",
      "23   Dumbbell Cross Body Hammer Curl  biceps, forearms\n",
      "24           Revers grip Biceps Curl  biceps, forearms\n",
      "27            Dumbbell Hammer Curls   biceps, forearms\n",
      "66                       Hammer Curl  biceps, forearms\n",
      "130                      Bench Squat  hips, quadriceps\n",
      "138              Barbell Bench Squat  hips, quadriceps\n",
      "146                   Dumbbell Lunge  hips, quadriceps\n",
      "147                            Squat  hips, quadriceps\n",
      "148                            Lunge  hips, quadriceps\n",
      "155                   Smith Deadlift  hips, quadriceps\n"
     ]
    }
   ],
   "source": [
    "import pandas as pd\n",
    "from fuzzywuzzy import fuzz\n",
    "\n",
    "# Load data hasil dedup\n",
    "df = pd.read_csv('exercise_dedup_fuzzy.csv')\n",
    "\n",
    "# 1. Cek berapa data dan tampilkan pasangan nama yang mirip >= 95%\n",
    "print(f\"Total data latihan: {len(df)}\")\n",
    "\n",
    "mirip_pairs = []\n",
    "names = df['exercise_name'].tolist()\n",
    "for i in range(len(names)):\n",
    "    for j in range(i+1, len(names)):\n",
    "        score = fuzz.ratio(names[i].lower(), names[j].lower())\n",
    "        if score >= 95:\n",
    "            mirip_pairs.append((names[i], names[j], score))\n",
    "\n",
    "print(f\"Jumlah pasangan nama mirip (≥95%): {len(mirip_pairs)}\")\n",
    "for n1, n2, sc in mirip_pairs:\n",
    "    print(f\"'{n1}' <-> '{n2}' (similarity: {sc}%)\")\n",
    "\n",
    "# 2. Cek main_muscle yang cuma 1 dan lebih dari 1\n",
    "df['muscle_count'] = df['main_muscle'].apply(lambda x: len(x.split(',')))\n",
    "\n",
    "single_muscle = df[df['muscle_count'] == 1]\n",
    "multi_muscle = df[df['muscle_count'] > 1]\n",
    "\n",
    "print(f\"\\nJumlah data dengan main_muscle tunggal: {len(single_muscle)}\")\n",
    "print(f\"Jumlah data dengan main_muscle lebih dari satu: {len(multi_muscle)}\")\n",
    "\n",
    "print(\"\\nLatihan dengan main_muscle lebih dari satu:\")\n",
    "print(multi_muscle[['exercise_name', 'main_muscle']])"
   ]
  },
  {
   "cell_type": "code",
   "execution_count": 28,
   "id": "d4e83a2b",
   "metadata": {},
   "outputs": [
    {
     "name": "stdout",
     "output_type": "stream",
     "text": [
      "Missing values per kolom:\n",
      "exercise_id       0\n",
      "exercise_name     0\n",
      "exercise_type     0\n",
      "body_part         0\n",
      "exercise_image    1\n",
      "dtype: int64\n",
      "\n",
      "Jumlah baris dengan missing value: 1\n",
      "Baris dengan missing value:\n",
      "     exercise_id              exercise_name exercise_type body_part exercise_image\n",
      "477        28040  Cable Single Arm High Row   weight_reps      back            NaN\n"
     ]
    }
   ],
   "source": [
    "import pandas as pd\n",
    "\n",
    "df = pd.read_csv('exercise_dedup_renamed.csv')\n",
    "\n",
    "# Cek missing value per kolom\n",
    "missing_per_col = df.isna().sum()\n",
    "print(\"Missing values per kolom:\")\n",
    "print(missing_per_col)\n",
    "\n",
    "# Ambil baris yang memiliki minimal 1 missing value\n",
    "missing_rows = df[df.isna().any(axis=1)]\n",
    "\n",
    "print(f\"\\nJumlah baris dengan missing value: {len(missing_rows)}\")\n",
    "print(\"Baris dengan missing value:\")\n",
    "print(missing_rows)"
   ]
  },
  {
   "cell_type": "code",
   "execution_count": 30,
   "id": "1b41c468",
   "metadata": {},
   "outputs": [
    {
     "name": "stdout",
     "output_type": "stream",
     "text": [
      "Variasi dan jumlah 'exercise_type':\n",
      "exercise_type\n",
      "weight_reps            425\n",
      "db_2_simultaneous      110\n",
      "db_1_alt_sides          40\n",
      "duration                22\n",
      "db_1_both_sides         20\n",
      "distance_duration       10\n",
      "db_2_alt_legs            9\n",
      "full_bodyweight          6\n",
      "db_1_alt_legs            3\n",
      "bodyweight_assisted      3\n",
      "Name: count, dtype: int64\n",
      "\n",
      "Variasi dan jumlah 'body_part':\n",
      "     body_part  count\n",
      "0       biceps     74\n",
      "1         back     71\n",
      "2        chest     64\n",
      "3     forearms     62\n",
      "4      triceps     61\n",
      "5   quadriceps     60\n",
      "6          abs     58\n",
      "7    shoulders     53\n",
      "8         hips     46\n",
      "9       calves     39\n",
      "10        neck     36\n",
      "11      cardio     18\n",
      "12   hamstring     17\n"
     ]
    }
   ],
   "source": [
    "import pandas as pd\n",
    "\n",
    "# Load data (ganti dengan file terbaru jika perlu)\n",
    "df = pd.read_csv('exercise_dedup_renamed.csv')\n",
    "\n",
    "# Cek variasi dan jumlah pada kolom 'exercise_type'\n",
    "print(\"Variasi dan jumlah 'exercise_type':\")\n",
    "print(df['exercise_type'].value_counts().sort_values(ascending=False))\n",
    "\n",
    "print(\"\\nVariasi dan jumlah 'body_part':\")\n",
    "# Untuk body_part yang bisa mengandung beberapa otot (dipisah koma), kita hitung semua komponen individual\n",
    "from collections import Counter\n",
    "\n",
    "# Pisah dan rapikan semua body part\n",
    "all_parts = df['body_part'].dropna().apply(lambda x: [p.strip() for p in x.split(',')])\n",
    "flat_parts = [item for sublist in all_parts for item in sublist]\n",
    "part_counts = Counter(flat_parts)\n",
    "\n",
    "# Ubah ke DataFrame untuk tampilan rapi\n",
    "part_df = pd.DataFrame(part_counts.items(), columns=['body_part', 'count']).sort_values(by='count', ascending=False)\n",
    "print(part_df.reset_index(drop=True))"
   ]
  },
  {
   "cell_type": "code",
   "execution_count": null,
   "id": "3f412d0a",
   "metadata": {},
   "outputs": [
    {
     "name": "stderr",
     "output_type": "stream",
     "text": [
      "C:\\Users\\Ridwanskie\\AppData\\Local\\Temp\\ipykernel_6860\\2411134694.py:57: DeprecationWarning: on_submit is deprecated. Instead, set the .continuous_update attribute to False and observe the value changing with: mywidget.observe(callback, 'value').\n",
      "  input_box.on_submit(on_input_submitted)\n"
     ]
    },
    {
     "data": {
      "application/vnd.jupyter.widget-view+json": {
       "model_id": "68eaf24584e64a199ac6820e52d88ae0",
       "version_major": 2,
       "version_minor": 0
      },
      "text/plain": [
       "Dropdown(description='Pilih opsi:', options=('exercise_type', 'body_part'), style=DescriptionStyle(description…"
      ]
     },
     "metadata": {},
     "output_type": "display_data"
    },
    {
     "data": {
      "application/vnd.jupyter.widget-view+json": {
       "model_id": "87e1e9c51362419f8d5925f1f5c6be35",
       "version_major": 2,
       "version_minor": 0
      },
      "text/plain": [
       "Text(value='', description='Masukkan nilai kategori:', placeholder='Contoh: biceps atau weight_reps', style=Te…"
      ]
     },
     "metadata": {},
     "output_type": "display_data"
    },
    {
     "data": {
      "application/vnd.jupyter.widget-view+json": {
       "model_id": "d9bb49db10e24470b2a803be0c21133c",
       "version_major": 2,
       "version_minor": 0
      },
      "text/plain": [
       "Output()"
      ]
     },
     "metadata": {},
     "output_type": "display_data"
    }
   ],
   "source": [
    "import pandas as pd\n",
    "import ipywidgets as widgets\n",
    "from IPython.display import display, clear_output, HTML\n",
    "\n",
    "# Load CSV yang sudah dirapikan\n",
    "df = pd.read_csv(\"exercise_dedup_renamed.csv\")\n",
    "\n",
    "# Widget dropdown untuk memilih kategori (type atau body part)\n",
    "category_selector = widgets.Dropdown(\n",
    "    options=['exercise_type', 'body_part'],\n",
    "    description='Pilih opsi:',\n",
    "    style={'description_width': 'initial'}\n",
    ")\n",
    "\n",
    "# Widget untuk input kategori spesifik (misalnya 'biceps', 'weight_reps')\n",
    "input_box = widgets.Text(\n",
    "    description='Masukkan nilai kategori:',\n",
    "    placeholder='Contoh: biceps atau weight_reps',\n",
    "    style={'description_width': 'initial'}\n",
    ")\n",
    "\n",
    "output = widgets.Output()\n",
    "\n",
    "def on_category_selected(change):\n",
    "    with output:\n",
    "        clear_output()\n",
    "        selected_category = category_selector.value\n",
    "        unique_values = df[selected_category].dropna().unique()\n",
    "        print(f\"Pilihan yang tersedia untuk '{selected_category}':\")\n",
    "        for i, val in enumerate(sorted(unique_values), 1):\n",
    "            print(f\"{i}. {val}\")\n",
    "\n",
    "def on_input_submitted(change):\n",
    "    with output:\n",
    "        clear_output()\n",
    "        selected_category = category_selector.value\n",
    "        filter_value = input_box.value.strip()\n",
    "        \n",
    "        # Jika category adalah body_part, bisa mengandung banyak value (pisah koma)\n",
    "        if selected_category == 'body_part':\n",
    "            filtered_df = df[df[selected_category].str.contains(filter_value, na=False, case=False)]\n",
    "        else:\n",
    "            filtered_df = df[df[selected_category] == filter_value]\n",
    "        \n",
    "        if filtered_df.empty:\n",
    "            print(\"Tidak ada data yang cocok.\")\n",
    "        else:\n",
    "            # Tampilkan dalam tabel scrollable\n",
    "            display(HTML('''\n",
    "            <div style=\"height: 400px; overflow: auto; border:1px solid #ccc; padding:5px\">\n",
    "                {0}\n",
    "            </div>\n",
    "            '''.format(filtered_df.to_html(index=False, border=1))))\n",
    "\n",
    "# Tampilkan dropdown dan input\n",
    "category_selector.observe(on_category_selected, names='value')\n",
    "input_box.on_submit(on_input_submitted)\n",
    "\n",
    "display(category_selector)\n",
    "display(input_box)\n",
    "display(output)"
   ]
  },
  {
   "cell_type": "code",
   "execution_count": 40,
   "id": "a6439ff3",
   "metadata": {},
   "outputs": [
    {
     "name": "stdout",
     "output_type": "stream",
     "text": [
      "CSV dengan URL gambar berhasil dibuat: 'exercise_image_urls_full.csv'\n"
     ]
    }
   ],
   "source": [
    "import pandas as pd\n",
    "\n",
    "# Baca CSV fuzzy renamed\n",
    "df = pd.read_csv('exercise_dedup_renamed.csv')\n",
    "\n",
    "# Pastikan kolom exercise_image ada\n",
    "if 'exercise_image' in df.columns:\n",
    "    # Simpan hanya kolom exercise_image ke CSV baru\n",
    "    df[['exercise_image']].to_csv('exercise_image_urls_full.csv', index=False)\n",
    "    print(\"CSV dengan URL gambar berhasil dibuat: 'exercise_image_urls_full.csv'\")\n",
    "else:\n",
    "    print(\"Kolom 'exercise_image' tidak ditemukan di data.\")"
   ]
  },
  {
   "cell_type": "code",
   "execution_count": 45,
   "id": "abe44a4b",
   "metadata": {},
   "outputs": [
    {
     "name": "stdout",
     "output_type": "stream",
     "text": [
      "Total data dengan URL gambar: 647\n",
      "Jumlah file berdasarkan ekstensi:\n",
      ".png: 647\n"
     ]
    }
   ],
   "source": [
    "import pandas as pd\n",
    "from collections import Counter\n",
    "import os\n",
    "\n",
    "# Load data\n",
    "df = pd.read_csv('exercise_image_urls_full.csv')\n",
    "\n",
    "# Pastikan kolom exercise_image ada dan tidak kosong\n",
    "image_urls = df['exercise_image'].dropna()\n",
    "\n",
    "# Ambil ekstensi file dari URL (misal .png, .jpg)\n",
    "extensions = image_urls.apply(lambda x: os.path.splitext(x)[1].lower())\n",
    "\n",
    "# Hitung jumlah per ekstensi\n",
    "ext_counts = Counter(extensions)\n",
    "\n",
    "# Tampilkan total data dan hasil hitung ekstensi\n",
    "print(f\"Total data dengan URL gambar: {len(image_urls)}\")\n",
    "print(\"Jumlah file berdasarkan ekstensi:\")\n",
    "for ext, count in ext_counts.items():\n",
    "    print(f\"{ext}: {count}\")"
   ]
  },
  {
   "cell_type": "code",
   "execution_count": 46,
   "id": "92dce31e",
   "metadata": {},
   "outputs": [
    {
     "name": "stdout",
     "output_type": "stream",
     "text": [
      "Total URL gambar: 647\n",
      "Jumlah URL unik: 601\n",
      "Jumlah URL duplikat: 46\n",
      "\n",
      "Contoh link duplikat dan jumlah kemunculannya:\n",
      "exercise_image\n",
      "https://apilyfta.com/static/GymvisualPNG/02981101-Dumbbell-Cross-Body-Hammer-Curl_Forearms_small.png        2\n",
      "https://apilyfta.com/static/GymvisualPNG/03691101-Dumbbell-Over-Bench-Wrist-Curl_Forearms_small.png         2\n",
      "https://apilyfta.com/static/GymvisualPNG/03821101-Dumbbell-Revers-grip-Biceps-Curl_Forearms_small.png       2\n",
      "https://apilyfta.com/static/GymvisualPNG/04011101-Dumbbell-Seated-Palms-Up-Wrist-Curl_Forearms_small.png    2\n",
      "https://apilyfta.com/static/GymvisualPNG/03851101-Dumbbell-Reverse-Wrist-Curl_Forearm_small.png             2\n",
      "https://apilyfta.com/static/GymvisualPNG/01251101-Barbell-Wrist-Curl-II_Forearms_small.png                  2\n",
      "https://apilyfta.com/static/GymvisualPNG/00801101-Barbell-Reverse-Curl_Forearm_small.png                    2\n",
      "https://apilyfta.com/static/GymvisualPNG/01101101-Barbell-Standing-Reverse-Grip-Curl_Forearms_small.png     2\n",
      "https://apilyfta.com/static/GymvisualPNG/04511101-EZ-Barbell-Reverse-Grip-Curl_Forearms_small.png           2\n",
      "https://apilyfta.com/static/GymvisualPNG/01651101-Cable-Hammer-Curl-(with-rope)-m_Forearms_small.png        2\n",
      "Name: count, dtype: int64\n"
     ]
    }
   ],
   "source": [
    "import pandas as pd\n",
    "\n",
    "df = pd.read_csv('exercise_image_urls_full.csv')\n",
    "\n",
    "# Ambil kolom exercise_image dan drop yang kosong\n",
    "urls = df['exercise_image'].dropna()\n",
    "\n",
    "# Hitung jumlah total dan jumlah unik\n",
    "total_urls = len(urls)\n",
    "unique_urls = urls.nunique()\n",
    "duplicate_count = total_urls - unique_urls\n",
    "\n",
    "print(f\"Total URL gambar: {total_urls}\")\n",
    "print(f\"Jumlah URL unik: {unique_urls}\")\n",
    "print(f\"Jumlah URL duplikat: {duplicate_count}\")\n",
    "\n",
    "# Jika ingin lihat contoh link duplikat dan frekuensinya\n",
    "duplicates = urls[urls.duplicated(keep=False)]\n",
    "print(\"\\nContoh link duplikat dan jumlah kemunculannya:\")\n",
    "print(duplicates.value_counts().head(10))"
   ]
  },
  {
   "cell_type": "code",
   "execution_count": 51,
   "id": "0f819e7c",
   "metadata": {},
   "outputs": [
    {
     "name": "stdout",
     "output_type": "stream",
     "text": [
      "     exercise_id                                     exercise_name      exercise_type         body_part                                                                                                             exercise_image\n",
      "138         1477                               Barbell Bench Squat        weight_reps  hips, quadriceps                                       https://apilyfta.com/static/GymvisualPNG/00261101-Barbell-Bench-Squat_Hips_small.png\n",
      "130            3                                       Bench Squat        weight_reps  hips, quadriceps                                       https://apilyfta.com/static/GymvisualPNG/00261101-Barbell-Bench-Squat_Hips_small.png\n",
      "133         1493                               Barbell Front Squat        weight_reps              hips                                   https://apilyfta.com/static/GymvisualPNG/00421101-Barbell-Front-Squat_Hips-FIX_small.png\n",
      "125           17                                       Front Squat        weight_reps              hips                                   https://apilyfta.com/static/GymvisualPNG/00421101-Barbell-Front-Squat_Hips-FIX_small.png\n",
      "167         1495                              Barbell Good Morning        weight_reps         hamstring                               https://apilyfta.com/static/GymvisualPNG/00441101-Barbell-Good-Morning_Thighs-AFIX_small.png\n",
      "166           19                                      Good Morning        weight_reps         hamstring                               https://apilyfta.com/static/GymvisualPNG/00441101-Barbell-Good-Morning_Thighs-AFIX_small.png\n",
      "251           29                                     Preacher Curl        weight_reps            biceps                          https://apilyfta.com/static/GymvisualPNG/00701101-Barbell-Preacher-Curl_Upper-Arms-AFIX_small.png\n",
      "272         1521                             Barbell Preacher Curl        weight_reps            biceps                          https://apilyfta.com/static/GymvisualPNG/00701101-Barbell-Preacher-Curl_Upper-Arms-AFIX_small.png\n",
      "46            33                                      Reverse Curl        weight_reps          forearms                                   https://apilyfta.com/static/GymvisualPNG/00801101-Barbell-Reverse-Curl_Forearm_small.png\n",
      "54          1531                              Barbell Reverse Curl        weight_reps          forearms                                   https://apilyfta.com/static/GymvisualPNG/00801101-Barbell-Reverse-Curl_Forearm_small.png\n",
      "126         1536                         Barbell Romanian Deadlift        weight_reps              hips                                 https://apilyfta.com/static/GymvisualPNG/00851101-Barbell-Romanian-Deadlift_Hips_small.png\n",
      "120           36                                 Romanian Deadlift        weight_reps              hips                                 https://apilyfta.com/static/GymvisualPNG/00851101-Barbell-Romanian-Deadlift_Hips_small.png\n",
      "342           37                 Seated Behind Head Military Press        weight_reps         shoulders            https://apilyfta.com/static/GymvisualPNG/00861101-Barbell-Seated-Behind-Head-Military-Press_Shoulders_small.png\n",
      "351         1537         Barbell Seated Behind Head Military Press        weight_reps         shoulders            https://apilyfta.com/static/GymvisualPNG/00861101-Barbell-Seated-Behind-Head-Military-Press_Shoulders_small.png\n",
      "104           44                           Standing Leg Calf Raise        weight_reps            calves                           https://apilyfta.com/static/GymvisualPNG/01081101-Barbell-Standing-Leg-Calf-Raise_Calf_small.png\n",
      "106         1559                   Barbell Standing Leg Calf Raise        weight_reps            calves                           https://apilyfta.com/static/GymvisualPNG/01081101-Barbell-Standing-Leg-Calf-Raise_Calf_small.png\n",
      "51            46                        Standing Reverse Grip Curl        weight_reps          forearms                    https://apilyfta.com/static/GymvisualPNG/01101101-Barbell-Standing-Reverse-Grip-Curl_Forearms_small.png\n",
      "49          1561                Barbell Standing Reverse Grip Curl        weight_reps          forearms                    https://apilyfta.com/static/GymvisualPNG/01101101-Barbell-Standing-Reverse-Grip-Curl_Forearms_small.png\n",
      "165         1567                     Barbell Straight Leg Deadlift        weight_reps         hamstring                      https://apilyfta.com/static/GymvisualPNG/01161101-Barbell-Straight-Leg-Deadlift_Thighs-AFIX_small.png\n",
      "169           49                             Straight Leg Deadlift        weight_reps         hamstring                      https://apilyfta.com/static/GymvisualPNG/01161101-Barbell-Straight-Leg-Deadlift_Thighs-AFIX_small.png\n",
      "544         1569                Barbell Reverse Grip Bent over Row        weight_reps              back                    https://apilyfta.com/static/GymvisualPNG/01181101-Barbell-Reverse-Grip-Bent-over-Row_Back-FIX_small.png\n",
      "543           51                        Reverse Grip Bent over Row        weight_reps              back                    https://apilyfta.com/static/GymvisualPNG/01181101-Barbell-Reverse-Grip-Bent-over-Row_Back-FIX_small.png\n",
      "45            54                                        Wrist Curl        weight_reps          forearms                                 https://apilyfta.com/static/GymvisualPNG/01251101-Barbell-Wrist-Curl-II_Forearms_small.png\n",
      "52          1576                               Barbell Wrist Curl         weight_reps          forearms                                 https://apilyfta.com/static/GymvisualPNG/01251101-Barbell-Wrist-Curl-II_Forearms_small.png\n",
      "493         1601                        Cable Bar Lateral Pulldown        weight_reps              back                                https://apilyfta.com/static/GymvisualPNG/01501101-Cable-Bar-Lateral-Pulldown_Back_small.png\n",
      "482           58                              Bar Lateral Pulldown        weight_reps              back                                https://apilyfta.com/static/GymvisualPNG/01501101-Cable-Bar-Lateral-Pulldown_Back_small.png\n",
      "66            67                                       Hammer Curl        weight_reps  biceps, forearms                       https://apilyfta.com/static/GymvisualPNG/01651101-Cable-Hammer-Curl-(with-rope)-m_Forearms_small.png\n",
      "67          1616                                Cable Hammer Curl         weight_reps          forearms                       https://apilyfta.com/static/GymvisualPNG/01651101-Cable-Hammer-Curl-(with-rope)-m_Forearms_small.png\n",
      "479           76                                    Low Seated Row        weight_reps              back                                      https://apilyfta.com/static/GymvisualPNG/01801101-Cable-Low-Seated-Row_Back_small.png\n",
      "500         1631                              Cable Low Seated Row        weight_reps              back                                      https://apilyfta.com/static/GymvisualPNG/01801101-Cable-Low-Seated-Row_Back_small.png\n",
      "190         1645                 Cable Overhead Triceps Extension         weight_reps           triceps  https://apilyfta.com/static/GymvisualPNG/01941101-Cable-Overhead-Triceps-Extension-(rope-attachment)_Upper-Arms_small.png\n",
      "186           84                        Overhead Triceps Extension        weight_reps           triceps  https://apilyfta.com/static/GymvisualPNG/01941101-Cable-Overhead-Triceps-Extension-(rope-attachment)_Upper-Arms_small.png\n",
      "484           87                                          Pulldown        weight_reps              back                                            https://apilyfta.com/static/GymvisualPNG/01981101-Cable-Pulldown_Back_small.png\n",
      "536         1649                                    Cable Pulldown        weight_reps              back                                            https://apilyfta.com/static/GymvisualPNG/01981101-Cable-Pulldown_Back_small.png\n",
      "495           90        Reverse-grip Straight Back Seated High Row        weight_reps              back     https://apilyfta.com/static/GymvisualPNG/02081101-Cable-Reverse-grip-Straight-Back-Seated-High-Row_Back-AFIX_small.png\n",
      "516         1659  Cable Reverse-grip Straight Back Seated High Row        weight_reps              back     https://apilyfta.com/static/GymvisualPNG/02081101-Cable-Reverse-grip-Straight-Back-Seated-High-Row_Back-AFIX_small.png\n",
      "509         1669                        Cable Seated Wide-grip Row        weight_reps              back                                https://apilyfta.com/static/GymvisualPNG/02181101-Cable-Seated-Wide-grip-Row_Back_small.png\n",
      "491           96                              Seated Wide-grip Row        weight_reps              back                                https://apilyfta.com/static/GymvisualPNG/02181101-Cable-Seated-Wide-grip-Row_Back_small.png\n",
      "481          105                          Straight Back Seated Row        weight_reps              back                            https://apilyfta.com/static/GymvisualPNG/02391101-Cable-Straight-Back-Seated-Row_Back_small.png\n",
      "489         1690                    Cable Straight Back Seated Row        weight_reps              back                            https://apilyfta.com/static/GymvisualPNG/02391101-Cable-Straight-Back-Seated-Row_Back_small.png\n",
      "255         1736                    Dumbbell Alternate Biceps Curl     db_1_alt_sides            biceps                 https://apilyfta.com/static/GymvisualPNG/02851101-Dumbbell-Alternate-Biceps-Curl_Upper-Arms-AFIX_small.png\n",
      "245          115                             Alternate Biceps Curl     db_1_alt_sides            biceps                 https://apilyfta.com/static/GymvisualPNG/02851101-Dumbbell-Alternate-Biceps-Curl_Upper-Arms-AFIX_small.png\n",
      "542         1744                            Dumbbell Bent Over Row  db_2_simultaneous              back                                https://apilyfta.com/static/GymvisualPNG/02931101-Dumbbell-Bent-Over-Row_Back-FIX_small.png\n",
      "541          121                                     Bent Over Row  db_2_simultaneous              back                                https://apilyfta.com/static/GymvisualPNG/02931101-Dumbbell-Bent-Over-Row_Back-FIX_small.png\n",
      "258         1745                              Dumbbell Biceps Curl  db_2_simultaneous            biceps                                https://apilyfta.com/static/GymvisualPNG/02941101-Dumbbell-Biceps-Curl_Upper-Arms_small.png\n",
      "247          122                                       Biceps Curl  db_2_simultaneous            biceps                                https://apilyfta.com/static/GymvisualPNG/02941101-Dumbbell-Biceps-Curl_Upper-Arms_small.png\n",
      "266         1748                       Dumbbell Concentration Curl     db_1_alt_sides            biceps                         https://apilyfta.com/static/GymvisualPNG/02971101-Dumbbell-Concentration-Curl_Upper-Arms_small.png\n",
      "253          124                                Concentration Curl     db_1_alt_sides            biceps                         https://apilyfta.com/static/GymvisualPNG/02971101-Dumbbell-Concentration-Curl_Upper-Arms_small.png\n",
      "21           125                            Cross Body Hammer Curl     db_1_alt_sides  biceps, forearms                       https://apilyfta.com/static/GymvisualPNG/02981101-Dumbbell-Cross-Body-Hammer-Curl_Forearms_small.png\n",
      "23          1749                   Dumbbell Cross Body Hammer Curl     db_1_alt_sides  biceps, forearms                       https://apilyfta.com/static/GymvisualPNG/02981101-Dumbbell-Cross-Body-Hammer-Curl_Forearms_small.png\n",
      "568         1759                                      Dumbbell Fly  db_2_simultaneous             chest                                         https://apilyfta.com/static/GymvisualPNG/03081101-Dumbbell-Fly_Chest-FIX_small.png\n",
      "558          132                                               Fly  db_2_simultaneous             chest                                         https://apilyfta.com/static/GymvisualPNG/03081101-Dumbbell-Fly_Chest-FIX_small.png\n",
      "322         1761                              Dumbbell Front Raise  db_2_simultaneous         shoulders                                 https://apilyfta.com/static/GymvisualPNG/03101101-Dumbbell-Front-Raise_Shoulders_small.png\n",
      "314          133                                       Front Raise  db_2_simultaneous         shoulders                                 https://apilyfta.com/static/GymvisualPNG/03101101-Dumbbell-Front-Raise_Shoulders_small.png\n",
      "590         1770                              Dumbbell Incline Fly  db_2_simultaneous             chest                                 https://apilyfta.com/static/GymvisualPNG/03191101-Dumbbell-Incline-Fly_Chest-FIX_small.png\n",
      "560          137                                       Incline Fly  db_2_simultaneous             chest                                 https://apilyfta.com/static/GymvisualPNG/03191101-Dumbbell-Incline-Fly_Chest-FIX_small.png\n",
      "315         1785                            Dumbbell Lateral Raise  db_2_simultaneous         shoulders                           https://apilyfta.com/static/GymvisualPNG/03341101-Dumbbell-Lateral-Raise_shoulder-AFIX_small.png\n",
      "312          145                                     Lateral Raise  db_2_simultaneous         shoulders                           https://apilyfta.com/static/GymvisualPNG/03341101-Dumbbell-Lateral-Raise_shoulder-AFIX_small.png\n",
      "173         1790                            Dumbbell Lying Femoral    db_1_both_sides         hamstring                                  https://apilyfta.com/static/GymvisualPNG/03391101-Dumbbell-Lying-Femoral_Thighs_small.png\n",
      "172          148                                     Lying Femoral    db_1_both_sides         hamstring                                  https://apilyfta.com/static/GymvisualPNG/03391101-Dumbbell-Lying-Femoral_Thighs_small.png\n",
      "22           158                             Over Bench Wrist Curl  db_2_simultaneous          forearms                        https://apilyfta.com/static/GymvisualPNG/03691101-Dumbbell-Over-Bench-Wrist-Curl_Forearms_small.png\n",
      "31          1820                    Dumbbell Over Bench Wrist Curl  db_2_simultaneous          forearms                        https://apilyfta.com/static/GymvisualPNG/03691101-Dumbbell-Over-Bench-Wrist-Curl_Forearms_small.png\n",
      "33          1833                  Dumbbell Revers grip Biceps Curl  db_2_simultaneous          forearms                      https://apilyfta.com/static/GymvisualPNG/03821101-Dumbbell-Revers-grip-Biceps-Curl_Forearms_small.png\n",
      "24           165                           Revers grip Biceps Curl  db_2_simultaneous  biceps, forearms                      https://apilyfta.com/static/GymvisualPNG/03821101-Dumbbell-Revers-grip-Biceps-Curl_Forearms_small.png\n",
      "26          1836                       Dumbbell Reverse Wrist Curl  db_2_simultaneous          forearms                            https://apilyfta.com/static/GymvisualPNG/03851101-Dumbbell-Reverse-Wrist-Curl_Forearm_small.png\n",
      "32           167                                Reverse Wrist Curl  db_2_simultaneous          forearms                            https://apilyfta.com/static/GymvisualPNG/03851101-Dumbbell-Reverse-Wrist-Curl_Forearm_small.png\n",
      "220         1840                   Dumbbell Seated Bench Extension    db_1_both_sides           triceps                 https://apilyfta.com/static/GymvisualPNG/03891101-Dumbbell-Seated-Bench-Extension_Upper-Arms-FIX_small.png\n",
      "189          168                            Seated Bench Extension    db_1_both_sides           triceps                 https://apilyfta.com/static/GymvisualPNG/03891101-Dumbbell-Seated-Bench-Extension_Upper-Arms-FIX_small.png\n",
      "318          171                              Seated Lateral Raise  db_2_simultaneous         shoulders                      https://apilyfta.com/static/GymvisualPNG/03951101-Dumbbell-Seated-Lateral-Raise-II_shoulder_small.png\n",
      "333         1846                    Dumbbell Seated Lateral Raise   db_2_simultaneous         shoulders                      https://apilyfta.com/static/GymvisualPNG/03951101-Dumbbell-Seated-Lateral-Raise-II_shoulder_small.png\n",
      "25          1852               Dumbbell Seated Palms Up Wrist Curl  db_2_simultaneous          forearms                   https://apilyfta.com/static/GymvisualPNG/04011101-Dumbbell-Seated-Palms-Up-Wrist-Curl_Forearms_small.png\n",
      "29           173                        Seated Palms Up Wrist Curl  db_2_simultaneous          forearms                   https://apilyfta.com/static/GymvisualPNG/04011101-Dumbbell-Seated-Palms-Up-Wrist-Curl_Forearms_small.png\n",
      "275         1853                     Dumbbell Seated Preacher Curl  db_2_simultaneous            biceps                       https://apilyfta.com/static/GymvisualPNG/04021101-Dumbbell-Seated-Preacher-Curl_Upper-Arms_small.png\n",
      "295          174                              Seated Preacher Curl  db_2_simultaneous            biceps                       https://apilyfta.com/static/GymvisualPNG/04021101-Dumbbell-Seated-Preacher-Curl_Upper-Arms_small.png\n",
      "313          176                             Seated Shoulder Press  db_2_simultaneous         shoulders                       https://apilyfta.com/static/GymvisualPNG/04051101-Dumbbell-Seated-Shoulder-Press_Shoulders_small.png\n",
      "316         1856                    Dumbbell Seated Shoulder Press  db_2_simultaneous         shoulders                       https://apilyfta.com/static/GymvisualPNG/04051101-Dumbbell-Seated-Shoulder-Press_Shoulders_small.png\n",
      "538          177                                             Shrug  db_2_simultaneous              back                                        https://apilyfta.com/static/GymvisualPNG/04061101-Dumbbell-Shrug_Back-FIX_small.png\n",
      "540         1857                                    Dumbbell Shrug  db_2_simultaneous              back                                        https://apilyfta.com/static/GymvisualPNG/04061101-Dumbbell-Shrug_Back-FIX_small.png\n",
      "292         1867                     Dumbbell Standing Biceps Curl  db_2_simultaneous            biceps                       https://apilyfta.com/static/GymvisualPNG/04161101-Dumbbell-Standing-Biceps-Curl_Upper-Arms_small.png\n",
      "278          181                              Standing Biceps Curl  db_2_simultaneous            biceps                       https://apilyfta.com/static/GymvisualPNG/04161101-Dumbbell-Standing-Biceps-Curl_Upper-Arms_small.png\n",
      "95           182                               Standing Calf Raise  db_2_simultaneous            calves                              https://apilyfta.com/static/GymvisualPNG/04171101-Dumbbell-Standing-Calf-Raise_Calf_small.png\n",
      "96          1868                      Dumbbell Standing Calf Raise  db_2_simultaneous            calves                              https://apilyfta.com/static/GymvisualPNG/04171101-Dumbbell-Standing-Calf-Raise_Calf_small.png\n",
      "214         1881               Dumbbell Standing Triceps Extension    db_1_both_sides           triceps                 https://apilyfta.com/static/GymvisualPNG/04301101-Dumbbell-Standing-Triceps-Extension_Upper-Arms_small.png\n",
      "209          187                        Standing Triceps Extension    db_1_both_sides           triceps                 https://apilyfta.com/static/GymvisualPNG/04301101-Dumbbell-Standing-Triceps-Extension_Upper-Arms_small.png\n",
      "287         1890                             Dumbbell Zottman Curl  db_2_simultaneous            biceps                           https://apilyfta.com/static/GymvisualPNG/04391101-Dumbbell-Zottman-Curl_Upper-Arms-FIX_small.png\n",
      "260          191                                      Zottman Curl  db_2_simultaneous            biceps                           https://apilyfta.com/static/GymvisualPNG/04391101-Dumbbell-Zottman-Curl_Upper-Arms-FIX_small.png\n",
      "58           195                                 Reverse Grip Curl        weight_reps          forearms                          https://apilyfta.com/static/GymvisualPNG/04511101-EZ-Barbell-Reverse-Grip-Curl_Forearms_small.png\n",
      "57          1902                      EZ Barbell Reverse Grip Curl        weight_reps          forearms                          https://apilyfta.com/static/GymvisualPNG/04511101-EZ-Barbell-Reverse-Grip-Curl_Forearms_small.png\n",
      "502         2312                                  Cable seated row        weight_reps              back                                          https://apilyfta.com/static/GymvisualPNG/08611101-Cable-seated-row_Back_small.png\n",
      "499          270                                        seated row        weight_reps              back                                          https://apilyfta.com/static/GymvisualPNG/08611101-Cable-seated-row_Back_small.png\n",
      "256         2319                                        Cable Curl        weight_reps            biceps                               https://apilyfta.com/static/GymvisualPNG/08681101-Cable-Curl-(male)_Upper-Arms-FIX_small.png\n",
      "262          272                                              Curl        weight_reps            biceps                               https://apilyfta.com/static/GymvisualPNG/08681101-Cable-Curl-(male)_Upper-Arms-FIX_small.png\n"
     ]
    }
   ],
   "source": [
    "import pandas as pd\n",
    "\n",
    "df = pd.read_csv('exercise_dedup_renamed.csv')\n",
    "\n",
    "# Cari URL yang muncul lebih dari sekali\n",
    "duplicate_urls = df['exercise_image'][df['exercise_image'].duplicated(keep=False)]\n",
    "\n",
    "# Filter baris yang memiliki URL duplikat\n",
    "df_duplicates = df[df['exercise_image'].isin(duplicate_urls)]\n",
    "\n",
    "# Urutkan berdasarkan URL gambar\n",
    "df_duplicates_sorted = df_duplicates.sort_values(by='exercise_image')\n",
    "\n",
    "# Tampilkan seluruh kolom dan seluruh baris (tanpa batas)\n",
    "pd.set_option('display.max_rows', None)\n",
    "pd.set_option('display.max_columns', None)\n",
    "pd.set_option('display.width', 1000)\n",
    "\n",
    "print(df_duplicates_sorted)"
   ]
  }
 ],
 "metadata": {
  "kernelspec": {
   "display_name": "ridwanafazn",
   "language": "python",
   "name": "ridwanafazn"
  },
  "language_info": {
   "codemirror_mode": {
    "name": "ipython",
    "version": 3
   },
   "file_extension": ".py",
   "mimetype": "text/x-python",
   "name": "python",
   "nbconvert_exporter": "python",
   "pygments_lexer": "ipython3",
   "version": "3.12.2"
  }
 },
 "nbformat": 4,
 "nbformat_minor": 5
}

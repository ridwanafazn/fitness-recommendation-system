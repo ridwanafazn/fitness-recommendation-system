{
 "cells": [
  {
   "cell_type": "code",
   "execution_count": 14,
   "id": "f0d5b4e3",
   "metadata": {},
   "outputs": [
    {
     "name": "stdout",
     "output_type": "stream",
     "text": [
      "     exercise_id                  exercise_name      exercise_type                                     exercise_image main_muscle\n",
      "0           3518           Stationary Bike Run   distance_duration  https://apilyfta.com/static/GymvisualPNG/22791...      cardio\n",
      "25         27979  Dumbbell Standing Arms Rotate  db_2_simultaneous  https://apilyfta.com/static/GymvisualPNG/62671...    forearms\n",
      "97           295               Smith Calf Raise        weight_reps  https://apilyfta.com/static/GymvisualPNG/11641...      calves\n",
      "146            7                       Deadlift        weight_reps  https://apilyfta.com/static/GymvisualPNG/00321...        hips\n",
      "199         1567  Barbell Straight Leg Deadlift        weight_reps  https://apilyfta.com/static/GymvisualPNG/01161...   hamstring\n",
      "222          262                    Triceps Dip    full_bodyweight  https://apilyfta.com/static/GymvisualPNG/08141...     triceps\n",
      "297          134                    Hammer Curl  db_2_simultaneous  https://apilyfta.com/static/GymvisualPNG/03121...      biceps\n",
      "388          145                  Lateral Raise  db_2_simultaneous  https://apilyfta.com/static/GymvisualPNG/03341...   shoulders\n",
      "450         4131                      Scissors         weight_reps  https://apilyfta.com/static/GymvisualPNG/28931...         abs\n",
      "515          212            Lever Leg Extension        weight_reps  https://apilyfta.com/static/GymvisualPNG/05851...  quadriceps\n",
      "586        28040      Cable Single Arm High Row        weight_reps                                                NaN        back\n",
      "666          275             Lever Pec Deck Fly        weight_reps  https://apilyfta.com/static/GymvisualPNG/10301...       chest\n",
      "744          288             Lying Neck Flexion        weight_reps  https://apilyfta.com/static/GymvisualPNG/10431...        neck\n"
     ]
    }
   ],
   "source": [
    "import pandas as pd\n",
    "\n",
    "df = pd.read_csv('exercise.csv')\n",
    "\n",
    "df_unique = df.drop_duplicates(subset=['main_muscle'], keep='first')\n",
    "\n",
    "pd.set_option('display.max_columns', None)\n",
    "pd.set_option('display.width', 1000)\n",
    "\n",
    "print(df_unique)"
   ]
  },
  {
   "cell_type": "code",
   "execution_count": null,
   "id": "6e0a95c9",
   "metadata": {},
   "outputs": [],
   "source": [
    "%pip install fuzzywuzzy"
   ]
  },
  {
   "cell_type": "code",
   "execution_count": 18,
   "id": "e7fee74e",
   "metadata": {},
   "outputs": [
    {
     "name": "stdout",
     "output_type": "stream",
     "text": [
      "     exercise_id                        exercise_name      exercise_type                                     exercise_image main_muscle\n",
      "0           3518                 Stationary Bike Run   distance_duration  https://apilyfta.com/static/GymvisualPNG/22791...      cardio\n",
      "1           4906                      Skip Jump Rope            duration  https://apilyfta.com/static/GymvisualPNG/36761...      cardio\n",
      "2           1962                            Jump Rope           duration  https://apilyfta.com/static/GymvisualPNG/05111...      cardio\n",
      "3           2136                                  Run  distance_duration  https://apilyfta.com/static/GymvisualPNG/06851...      cardio\n",
      "4           3499                 Walking on Treadmill  distance_duration  https://apilyfta.com/static/GymvisualPNG/22591...      cardio\n",
      "..           ...                                  ...                ...                                                ...         ...\n",
      "775        27570  Roll Neck Decompress Lying on Floor           duration  https://apilyfta.com/static/GymvisualPNG/53721...        neck\n",
      "776         5430                      Tiger Tail Neck        weight_reps  https://apilyfta.com/static/GymvisualPNG/42221...        neck\n",
      "777        27405                     Seated Chin Tuck        weight_reps  https://apilyfta.com/static/GymvisualPNG/50631...        neck\n",
      "778        47288              5 Sec Fist Against Chin        weight_reps  https://apilyfta.com/static/GymvisualPNG/64071...        neck\n",
      "779        46722           Standing Side Neck Stretch           duration  https://apilyfta.com/static/GymvisualPNG/73061...        neck\n",
      "\n",
      "[648 rows x 5 columns]\n"
     ]
    }
   ],
   "source": [
    "import pandas as pd\n",
    "from fuzzywuzzy import fuzz\n",
    "\n",
    "# Load data\n",
    "df = pd.read_csv('exercise.csv')\n",
    "\n",
    "# Fungsi bantu untuk menggabungkan main_muscle unik jadi string\n",
    "def combine_muscles(muscle_series):\n",
    "    return ', '.join(sorted(muscle_series.unique()))\n",
    "\n",
    "# List untuk menampung hasil final\n",
    "final_rows = []\n",
    "\n",
    "# Ambil semua index yang belum diproses\n",
    "unprocessed = set(df.index)\n",
    "\n",
    "while unprocessed:\n",
    "    current_idx = unprocessed.pop()\n",
    "    current_row = df.loc[current_idx]\n",
    "    current_name = current_row['exercise_name']\n",
    "    \n",
    "    # Cari baris yang mirip dengan current_name (>=95%)\n",
    "    similar_idxs = []\n",
    "    for idx in list(unprocessed):\n",
    "        other_name = df.loc[idx, 'exercise_name']\n",
    "        score = fuzz.ratio(current_name.lower(), other_name.lower())\n",
    "        if score >= 95:\n",
    "            similar_idxs.append(idx)\n",
    "    \n",
    "    # Masukkan current_idx juga ke daftar group\n",
    "    group_idxs = [current_idx] + similar_idxs\n",
    "    \n",
    "    # Gabungkan main_muscle unik dari group ini\n",
    "    muscles = df.loc[group_idxs, 'main_muscle']\n",
    "    combined_muscles = combine_muscles(muscles)\n",
    "    \n",
    "    # Ambil data dari current_row tapi update main_muscle\n",
    "    new_row = current_row.copy()\n",
    "    new_row['main_muscle'] = combined_muscles\n",
    "    \n",
    "    final_rows.append(new_row)\n",
    "    \n",
    "    # Hapus idx yang sudah diproses dari unprocessed\n",
    "    unprocessed -= set(similar_idxs)\n",
    "\n",
    "# Buat DataFrame baru hasil dedup dan gabungan main_muscle\n",
    "df_final = pd.DataFrame(final_rows)\n",
    "\n",
    "# Save ke CSV baru\n",
    "df_final.to_csv('exercise_dedup_fuzzy.csv', index=False)\n",
    "\n",
    "print(df_final)"
   ]
  },
  {
   "cell_type": "code",
   "execution_count": 19,
   "id": "f182d048",
   "metadata": {},
   "outputs": [
    {
     "name": "stdout",
     "output_type": "stream",
     "text": [
      "Total data latihan: 648\n",
      "Jumlah pasangan nama mirip (≥95%): 0\n",
      "\n",
      "Jumlah data dengan main_muscle tunggal: 637\n",
      "Jumlah data dengan main_muscle lebih dari satu: 11\n",
      "\n",
      "Latihan dengan main_muscle lebih dari satu:\n",
      "                       exercise_name       main_muscle\n",
      "21            Cross Body Hammer Curl  biceps, forearms\n",
      "23   Dumbbell Cross Body Hammer Curl  biceps, forearms\n",
      "24           Revers grip Biceps Curl  biceps, forearms\n",
      "27            Dumbbell Hammer Curls   biceps, forearms\n",
      "66                       Hammer Curl  biceps, forearms\n",
      "130                      Bench Squat  hips, quadriceps\n",
      "138              Barbell Bench Squat  hips, quadriceps\n",
      "146                   Dumbbell Lunge  hips, quadriceps\n",
      "147                            Squat  hips, quadriceps\n",
      "148                            Lunge  hips, quadriceps\n",
      "155                   Smith Deadlift  hips, quadriceps\n"
     ]
    }
   ],
   "source": [
    "import pandas as pd\n",
    "from fuzzywuzzy import fuzz\n",
    "\n",
    "# Load data hasil dedup\n",
    "df = pd.read_csv('exercise_dedup_fuzzy.csv')\n",
    "\n",
    "# 1. Cek berapa data dan tampilkan pasangan nama yang mirip >= 95%\n",
    "print(f\"Total data latihan: {len(df)}\")\n",
    "\n",
    "mirip_pairs = []\n",
    "names = df['exercise_name'].tolist()\n",
    "for i in range(len(names)):\n",
    "    for j in range(i+1, len(names)):\n",
    "        score = fuzz.ratio(names[i].lower(), names[j].lower())\n",
    "        if score >= 95:\n",
    "            mirip_pairs.append((names[i], names[j], score))\n",
    "\n",
    "print(f\"Jumlah pasangan nama mirip (≥95%): {len(mirip_pairs)}\")\n",
    "for n1, n2, sc in mirip_pairs:\n",
    "    print(f\"'{n1}' <-> '{n2}' (similarity: {sc}%)\")\n",
    "\n",
    "# 2. Cek main_muscle yang cuma 1 dan lebih dari 1\n",
    "df['muscle_count'] = df['main_muscle'].apply(lambda x: len(x.split(',')))\n",
    "\n",
    "single_muscle = df[df['muscle_count'] == 1]\n",
    "multi_muscle = df[df['muscle_count'] > 1]\n",
    "\n",
    "print(f\"\\nJumlah data dengan main_muscle tunggal: {len(single_muscle)}\")\n",
    "print(f\"Jumlah data dengan main_muscle lebih dari satu: {len(multi_muscle)}\")\n",
    "\n",
    "print(\"\\nLatihan dengan main_muscle lebih dari satu:\")\n",
    "print(multi_muscle[['exercise_name', 'main_muscle']])"
   ]
  },
  {
   "cell_type": "code",
   "execution_count": 28,
   "id": "d4e83a2b",
   "metadata": {},
   "outputs": [
    {
     "name": "stdout",
     "output_type": "stream",
     "text": [
      "Missing values per kolom:\n",
      "exercise_id       0\n",
      "exercise_name     0\n",
      "exercise_type     0\n",
      "body_part         0\n",
      "exercise_image    1\n",
      "dtype: int64\n",
      "\n",
      "Jumlah baris dengan missing value: 1\n",
      "Baris dengan missing value:\n",
      "     exercise_id              exercise_name exercise_type body_part exercise_image\n",
      "477        28040  Cable Single Arm High Row   weight_reps      back            NaN\n"
     ]
    }
   ],
   "source": [
    "import pandas as pd\n",
    "\n",
    "df = pd.read_csv('exercise_dedup_renamed.csv')\n",
    "\n",
    "# Cek missing value per kolom\n",
    "missing_per_col = df.isna().sum()\n",
    "print(\"Missing values per kolom:\")\n",
    "print(missing_per_col)\n",
    "\n",
    "# Ambil baris yang memiliki minimal 1 missing value\n",
    "missing_rows = df[df.isna().any(axis=1)]\n",
    "\n",
    "print(f\"\\nJumlah baris dengan missing value: {len(missing_rows)}\")\n",
    "print(\"Baris dengan missing value:\")\n",
    "print(missing_rows)"
   ]
  },
  {
   "cell_type": "code",
   "execution_count": 30,
   "id": "1b41c468",
   "metadata": {},
   "outputs": [
    {
     "name": "stdout",
     "output_type": "stream",
     "text": [
      "Variasi dan jumlah 'exercise_type':\n",
      "exercise_type\n",
      "weight_reps            425\n",
      "db_2_simultaneous      110\n",
      "db_1_alt_sides          40\n",
      "duration                22\n",
      "db_1_both_sides         20\n",
      "distance_duration       10\n",
      "db_2_alt_legs            9\n",
      "full_bodyweight          6\n",
      "db_1_alt_legs            3\n",
      "bodyweight_assisted      3\n",
      "Name: count, dtype: int64\n",
      "\n",
      "Variasi dan jumlah 'body_part':\n",
      "     body_part  count\n",
      "0       biceps     74\n",
      "1         back     71\n",
      "2        chest     64\n",
      "3     forearms     62\n",
      "4      triceps     61\n",
      "5   quadriceps     60\n",
      "6          abs     58\n",
      "7    shoulders     53\n",
      "8         hips     46\n",
      "9       calves     39\n",
      "10        neck     36\n",
      "11      cardio     18\n",
      "12   hamstring     17\n"
     ]
    }
   ],
   "source": [
    "import pandas as pd\n",
    "\n",
    "# Load data (ganti dengan file terbaru jika perlu)\n",
    "df = pd.read_csv('exercise_dedup_renamed.csv')\n",
    "\n",
    "# Cek variasi dan jumlah pada kolom 'exercise_type'\n",
    "print(\"Variasi dan jumlah 'exercise_type':\")\n",
    "print(df['exercise_type'].value_counts().sort_values(ascending=False))\n",
    "\n",
    "print(\"\\nVariasi dan jumlah 'body_part':\")\n",
    "# Untuk body_part yang bisa mengandung beberapa otot (dipisah koma), kita hitung semua komponen individual\n",
    "from collections import Counter\n",
    "\n",
    "# Pisah dan rapikan semua body part\n",
    "all_parts = df['body_part'].dropna().apply(lambda x: [p.strip() for p in x.split(',')])\n",
    "flat_parts = [item for sublist in all_parts for item in sublist]\n",
    "part_counts = Counter(flat_parts)\n",
    "\n",
    "# Ubah ke DataFrame untuk tampilan rapi\n",
    "part_df = pd.DataFrame(part_counts.items(), columns=['body_part', 'count']).sort_values(by='count', ascending=False)\n",
    "print(part_df.reset_index(drop=True))"
   ]
  },
  {
   "cell_type": "code",
   "execution_count": null,
   "id": "3f412d0a",
   "metadata": {},
   "outputs": [
    {
     "name": "stderr",
     "output_type": "stream",
     "text": [
      "C:\\Users\\Ridwanskie\\AppData\\Local\\Temp\\ipykernel_6860\\2411134694.py:57: DeprecationWarning: on_submit is deprecated. Instead, set the .continuous_update attribute to False and observe the value changing with: mywidget.observe(callback, 'value').\n",
      "  input_box.on_submit(on_input_submitted)\n"
     ]
    },
    {
     "data": {
      "application/vnd.jupyter.widget-view+json": {
       "model_id": "68eaf24584e64a199ac6820e52d88ae0",
       "version_major": 2,
       "version_minor": 0
      },
      "text/plain": [
       "Dropdown(description='Pilih opsi:', options=('exercise_type', 'body_part'), style=DescriptionStyle(description…"
      ]
     },
     "metadata": {},
     "output_type": "display_data"
    },
    {
     "data": {
      "application/vnd.jupyter.widget-view+json": {
       "model_id": "87e1e9c51362419f8d5925f1f5c6be35",
       "version_major": 2,
       "version_minor": 0
      },
      "text/plain": [
       "Text(value='', description='Masukkan nilai kategori:', placeholder='Contoh: biceps atau weight_reps', style=Te…"
      ]
     },
     "metadata": {},
     "output_type": "display_data"
    },
    {
     "data": {
      "application/vnd.jupyter.widget-view+json": {
       "model_id": "d9bb49db10e24470b2a803be0c21133c",
       "version_major": 2,
       "version_minor": 0
      },
      "text/plain": [
       "Output()"
      ]
     },
     "metadata": {},
     "output_type": "display_data"
    }
   ],
   "source": [
    "import pandas as pd\n",
    "import ipywidgets as widgets\n",
    "from IPython.display import display, clear_output, HTML\n",
    "\n",
    "# Load CSV yang sudah dirapikan\n",
    "df = pd.read_csv(\"exercise_dedup_renamed.csv\")\n",
    "\n",
    "# Widget dropdown untuk memilih kategori (type atau body part)\n",
    "category_selector = widgets.Dropdown(\n",
    "    options=['exercise_type', 'body_part'],\n",
    "    description='Pilih opsi:',\n",
    "    style={'description_width': 'initial'}\n",
    ")\n",
    "\n",
    "# Widget untuk input kategori spesifik (misalnya 'biceps', 'weight_reps')\n",
    "input_box = widgets.Text(\n",
    "    description='Masukkan nilai kategori:',\n",
    "    placeholder='Contoh: biceps atau weight_reps',\n",
    "    style={'description_width': 'initial'}\n",
    ")\n",
    "\n",
    "output = widgets.Output()\n",
    "\n",
    "def on_category_selected(change):\n",
    "    with output:\n",
    "        clear_output()\n",
    "        selected_category = category_selector.value\n",
    "        unique_values = df[selected_category].dropna().unique()\n",
    "        print(f\"Pilihan yang tersedia untuk '{selected_category}':\")\n",
    "        for i, val in enumerate(sorted(unique_values), 1):\n",
    "            print(f\"{i}. {val}\")\n",
    "\n",
    "def on_input_submitted(change):\n",
    "    with output:\n",
    "        clear_output()\n",
    "        selected_category = category_selector.value\n",
    "        filter_value = input_box.value.strip()\n",
    "        \n",
    "        # Jika category adalah body_part, bisa mengandung banyak value (pisah koma)\n",
    "        if selected_category == 'body_part':\n",
    "            filtered_df = df[df[selected_category].str.contains(filter_value, na=False, case=False)]\n",
    "        else:\n",
    "            filtered_df = df[df[selected_category] == filter_value]\n",
    "        \n",
    "        if filtered_df.empty:\n",
    "            print(\"Tidak ada data yang cocok.\")\n",
    "        else:\n",
    "            # Tampilkan dalam tabel scrollable\n",
    "            display(HTML('''\n",
    "            <div style=\"height: 400px; overflow: auto; border:1px solid #ccc; padding:5px\">\n",
    "                {0}\n",
    "            </div>\n",
    "            '''.format(filtered_df.to_html(index=False, border=1))))\n",
    "\n",
    "# Tampilkan dropdown dan input\n",
    "category_selector.observe(on_category_selected, names='value')\n",
    "input_box.on_submit(on_input_submitted)\n",
    "\n",
    "display(category_selector)\n",
    "display(input_box)\n",
    "display(output)"
   ]
  },
  {
   "cell_type": "code",
   "execution_count": 40,
   "id": "a6439ff3",
   "metadata": {},
   "outputs": [
    {
     "name": "stdout",
     "output_type": "stream",
     "text": [
      "CSV dengan URL gambar berhasil dibuat: 'exercise_image_urls_full.csv'\n"
     ]
    }
   ],
   "source": [
    "import pandas as pd\n",
    "\n",
    "# Baca CSV fuzzy renamed\n",
    "df = pd.read_csv('exercise_dedup_renamed.csv')\n",
    "\n",
    "# Pastikan kolom exercise_image ada\n",
    "if 'exercise_image' in df.columns:\n",
    "    # Simpan hanya kolom exercise_image ke CSV baru\n",
    "    df[['exercise_image']].to_csv('exercise_image_urls_full.csv', index=False)\n",
    "    print(\"CSV dengan URL gambar berhasil dibuat: 'exercise_image_urls_full.csv'\")\n",
    "else:\n",
    "    print(\"Kolom 'exercise_image' tidak ditemukan di data.\")"
   ]
  },
  {
   "cell_type": "code",
   "execution_count": 45,
   "id": "abe44a4b",
   "metadata": {},
   "outputs": [
    {
     "name": "stdout",
     "output_type": "stream",
     "text": [
      "Total data dengan URL gambar: 647\n",
      "Jumlah file berdasarkan ekstensi:\n",
      ".png: 647\n"
     ]
    }
   ],
   "source": [
    "import pandas as pd\n",
    "from collections import Counter\n",
    "import os\n",
    "\n",
    "# Load data\n",
    "df = pd.read_csv('exercise_image_urls_full.csv')\n",
    "\n",
    "# Pastikan kolom exercise_image ada dan tidak kosong\n",
    "image_urls = df['exercise_image'].dropna()\n",
    "\n",
    "# Ambil ekstensi file dari URL (misal .png, .jpg)\n",
    "extensions = image_urls.apply(lambda x: os.path.splitext(x)[1].lower())\n",
    "\n",
    "# Hitung jumlah per ekstensi\n",
    "ext_counts = Counter(extensions)\n",
    "\n",
    "# Tampilkan total data dan hasil hitung ekstensi\n",
    "print(f\"Total data dengan URL gambar: {len(image_urls)}\")\n",
    "print(\"Jumlah file berdasarkan ekstensi:\")\n",
    "for ext, count in ext_counts.items():\n",
    "    print(f\"{ext}: {count}\")"
   ]
  },
  {
   "cell_type": "code",
   "execution_count": 46,
   "id": "92dce31e",
   "metadata": {},
   "outputs": [
    {
     "name": "stdout",
     "output_type": "stream",
     "text": [
      "Total URL gambar: 647\n",
      "Jumlah URL unik: 601\n",
      "Jumlah URL duplikat: 46\n",
      "\n",
      "Contoh link duplikat dan jumlah kemunculannya:\n",
      "exercise_image\n",
      "https://apilyfta.com/static/GymvisualPNG/02981101-Dumbbell-Cross-Body-Hammer-Curl_Forearms_small.png        2\n",
      "https://apilyfta.com/static/GymvisualPNG/03691101-Dumbbell-Over-Bench-Wrist-Curl_Forearms_small.png         2\n",
      "https://apilyfta.com/static/GymvisualPNG/03821101-Dumbbell-Revers-grip-Biceps-Curl_Forearms_small.png       2\n",
      "https://apilyfta.com/static/GymvisualPNG/04011101-Dumbbell-Seated-Palms-Up-Wrist-Curl_Forearms_small.png    2\n",
      "https://apilyfta.com/static/GymvisualPNG/03851101-Dumbbell-Reverse-Wrist-Curl_Forearm_small.png             2\n",
      "https://apilyfta.com/static/GymvisualPNG/01251101-Barbell-Wrist-Curl-II_Forearms_small.png                  2\n",
      "https://apilyfta.com/static/GymvisualPNG/00801101-Barbell-Reverse-Curl_Forearm_small.png                    2\n",
      "https://apilyfta.com/static/GymvisualPNG/01101101-Barbell-Standing-Reverse-Grip-Curl_Forearms_small.png     2\n",
      "https://apilyfta.com/static/GymvisualPNG/04511101-EZ-Barbell-Reverse-Grip-Curl_Forearms_small.png           2\n",
      "https://apilyfta.com/static/GymvisualPNG/01651101-Cable-Hammer-Curl-(with-rope)-m_Forearms_small.png        2\n",
      "Name: count, dtype: int64\n"
     ]
    }
   ],
   "source": [
    "import pandas as pd\n",
    "\n",
    "df = pd.read_csv('exercise_image_urls_full.csv')\n",
    "\n",
    "# Ambil kolom exercise_image dan drop yang kosong\n",
    "urls = df['exercise_image'].dropna()\n",
    "\n",
    "# Hitung jumlah total dan jumlah unik\n",
    "total_urls = len(urls)\n",
    "unique_urls = urls.nunique()\n",
    "duplicate_count = total_urls - unique_urls\n",
    "\n",
    "print(f\"Total URL gambar: {total_urls}\")\n",
    "print(f\"Jumlah URL unik: {unique_urls}\")\n",
    "print(f\"Jumlah URL duplikat: {duplicate_count}\")\n",
    "\n",
    "# Jika ingin lihat contoh link duplikat dan frekuensinya\n",
    "duplicates = urls[urls.duplicated(keep=False)]\n",
    "print(\"\\nContoh link duplikat dan jumlah kemunculannya:\")\n",
    "print(duplicates.value_counts().head(10))"
   ]
  },
  {
   "cell_type": "code",
   "execution_count": 1,
   "id": "0f819e7c",
   "metadata": {},
   "outputs": [
    {
     "name": "stdout",
     "output_type": "stream",
     "text": [
      "     exercise_id                                     exercise_name      exercise_type         body_part                                     exercise_image\n",
      "138         1477                               Barbell Bench Squat        weight_reps  hips, quadriceps  https://apilyfta.com/static/GymvisualPNG/00261...\n",
      "130            3                                       Bench Squat        weight_reps  hips, quadriceps  https://apilyfta.com/static/GymvisualPNG/00261...\n",
      "133         1493                               Barbell Front Squat        weight_reps              hips  https://apilyfta.com/static/GymvisualPNG/00421...\n",
      "125           17                                       Front Squat        weight_reps              hips  https://apilyfta.com/static/GymvisualPNG/00421...\n",
      "167         1495                              Barbell Good Morning        weight_reps         hamstring  https://apilyfta.com/static/GymvisualPNG/00441...\n",
      "166           19                                      Good Morning        weight_reps         hamstring  https://apilyfta.com/static/GymvisualPNG/00441...\n",
      "251           29                                     Preacher Curl        weight_reps            biceps  https://apilyfta.com/static/GymvisualPNG/00701...\n",
      "272         1521                             Barbell Preacher Curl        weight_reps            biceps  https://apilyfta.com/static/GymvisualPNG/00701...\n",
      "46            33                                      Reverse Curl        weight_reps          forearms  https://apilyfta.com/static/GymvisualPNG/00801...\n",
      "54          1531                              Barbell Reverse Curl        weight_reps          forearms  https://apilyfta.com/static/GymvisualPNG/00801...\n",
      "126         1536                         Barbell Romanian Deadlift        weight_reps              hips  https://apilyfta.com/static/GymvisualPNG/00851...\n",
      "120           36                                 Romanian Deadlift        weight_reps              hips  https://apilyfta.com/static/GymvisualPNG/00851...\n",
      "342           37                 Seated Behind Head Military Press        weight_reps         shoulders  https://apilyfta.com/static/GymvisualPNG/00861...\n",
      "351         1537         Barbell Seated Behind Head Military Press        weight_reps         shoulders  https://apilyfta.com/static/GymvisualPNG/00861...\n",
      "104           44                           Standing Leg Calf Raise        weight_reps            calves  https://apilyfta.com/static/GymvisualPNG/01081...\n",
      "106         1559                   Barbell Standing Leg Calf Raise        weight_reps            calves  https://apilyfta.com/static/GymvisualPNG/01081...\n",
      "51            46                        Standing Reverse Grip Curl        weight_reps          forearms  https://apilyfta.com/static/GymvisualPNG/01101...\n",
      "49          1561                Barbell Standing Reverse Grip Curl        weight_reps          forearms  https://apilyfta.com/static/GymvisualPNG/01101...\n",
      "165         1567                     Barbell Straight Leg Deadlift        weight_reps         hamstring  https://apilyfta.com/static/GymvisualPNG/01161...\n",
      "169           49                             Straight Leg Deadlift        weight_reps         hamstring  https://apilyfta.com/static/GymvisualPNG/01161...\n",
      "544         1569                Barbell Reverse Grip Bent over Row        weight_reps              back  https://apilyfta.com/static/GymvisualPNG/01181...\n",
      "543           51                        Reverse Grip Bent over Row        weight_reps              back  https://apilyfta.com/static/GymvisualPNG/01181...\n",
      "45            54                                        Wrist Curl        weight_reps          forearms  https://apilyfta.com/static/GymvisualPNG/01251...\n",
      "52          1576                               Barbell Wrist Curl         weight_reps          forearms  https://apilyfta.com/static/GymvisualPNG/01251...\n",
      "493         1601                        Cable Bar Lateral Pulldown        weight_reps              back  https://apilyfta.com/static/GymvisualPNG/01501...\n",
      "482           58                              Bar Lateral Pulldown        weight_reps              back  https://apilyfta.com/static/GymvisualPNG/01501...\n",
      "66            67                                       Hammer Curl        weight_reps  biceps, forearms  https://apilyfta.com/static/GymvisualPNG/01651...\n",
      "67          1616                                Cable Hammer Curl         weight_reps          forearms  https://apilyfta.com/static/GymvisualPNG/01651...\n",
      "479           76                                    Low Seated Row        weight_reps              back  https://apilyfta.com/static/GymvisualPNG/01801...\n",
      "500         1631                              Cable Low Seated Row        weight_reps              back  https://apilyfta.com/static/GymvisualPNG/01801...\n",
      "190         1645                 Cable Overhead Triceps Extension         weight_reps           triceps  https://apilyfta.com/static/GymvisualPNG/01941...\n",
      "186           84                        Overhead Triceps Extension        weight_reps           triceps  https://apilyfta.com/static/GymvisualPNG/01941...\n",
      "484           87                                          Pulldown        weight_reps              back  https://apilyfta.com/static/GymvisualPNG/01981...\n",
      "536         1649                                    Cable Pulldown        weight_reps              back  https://apilyfta.com/static/GymvisualPNG/01981...\n",
      "495           90        Reverse-grip Straight Back Seated High Row        weight_reps              back  https://apilyfta.com/static/GymvisualPNG/02081...\n",
      "516         1659  Cable Reverse-grip Straight Back Seated High Row        weight_reps              back  https://apilyfta.com/static/GymvisualPNG/02081...\n",
      "509         1669                        Cable Seated Wide-grip Row        weight_reps              back  https://apilyfta.com/static/GymvisualPNG/02181...\n",
      "491           96                              Seated Wide-grip Row        weight_reps              back  https://apilyfta.com/static/GymvisualPNG/02181...\n",
      "481          105                          Straight Back Seated Row        weight_reps              back  https://apilyfta.com/static/GymvisualPNG/02391...\n",
      "489         1690                    Cable Straight Back Seated Row        weight_reps              back  https://apilyfta.com/static/GymvisualPNG/02391...\n",
      "255         1736                    Dumbbell Alternate Biceps Curl     db_1_alt_sides            biceps  https://apilyfta.com/static/GymvisualPNG/02851...\n",
      "245          115                             Alternate Biceps Curl     db_1_alt_sides            biceps  https://apilyfta.com/static/GymvisualPNG/02851...\n",
      "542         1744                            Dumbbell Bent Over Row  db_2_simultaneous              back  https://apilyfta.com/static/GymvisualPNG/02931...\n",
      "541          121                                     Bent Over Row  db_2_simultaneous              back  https://apilyfta.com/static/GymvisualPNG/02931...\n",
      "258         1745                              Dumbbell Biceps Curl  db_2_simultaneous            biceps  https://apilyfta.com/static/GymvisualPNG/02941...\n",
      "247          122                                       Biceps Curl  db_2_simultaneous            biceps  https://apilyfta.com/static/GymvisualPNG/02941...\n",
      "266         1748                       Dumbbell Concentration Curl     db_1_alt_sides            biceps  https://apilyfta.com/static/GymvisualPNG/02971...\n",
      "253          124                                Concentration Curl     db_1_alt_sides            biceps  https://apilyfta.com/static/GymvisualPNG/02971...\n",
      "21           125                            Cross Body Hammer Curl     db_1_alt_sides  biceps, forearms  https://apilyfta.com/static/GymvisualPNG/02981...\n",
      "23          1749                   Dumbbell Cross Body Hammer Curl     db_1_alt_sides  biceps, forearms  https://apilyfta.com/static/GymvisualPNG/02981...\n",
      "568         1759                                      Dumbbell Fly  db_2_simultaneous             chest  https://apilyfta.com/static/GymvisualPNG/03081...\n",
      "558          132                                               Fly  db_2_simultaneous             chest  https://apilyfta.com/static/GymvisualPNG/03081...\n",
      "322         1761                              Dumbbell Front Raise  db_2_simultaneous         shoulders  https://apilyfta.com/static/GymvisualPNG/03101...\n",
      "314          133                                       Front Raise  db_2_simultaneous         shoulders  https://apilyfta.com/static/GymvisualPNG/03101...\n",
      "590         1770                              Dumbbell Incline Fly  db_2_simultaneous             chest  https://apilyfta.com/static/GymvisualPNG/03191...\n",
      "560          137                                       Incline Fly  db_2_simultaneous             chest  https://apilyfta.com/static/GymvisualPNG/03191...\n",
      "315         1785                            Dumbbell Lateral Raise  db_2_simultaneous         shoulders  https://apilyfta.com/static/GymvisualPNG/03341...\n",
      "312          145                                     Lateral Raise  db_2_simultaneous         shoulders  https://apilyfta.com/static/GymvisualPNG/03341...\n",
      "173         1790                            Dumbbell Lying Femoral    db_1_both_sides         hamstring  https://apilyfta.com/static/GymvisualPNG/03391...\n",
      "172          148                                     Lying Femoral    db_1_both_sides         hamstring  https://apilyfta.com/static/GymvisualPNG/03391...\n",
      "22           158                             Over Bench Wrist Curl  db_2_simultaneous          forearms  https://apilyfta.com/static/GymvisualPNG/03691...\n",
      "31          1820                    Dumbbell Over Bench Wrist Curl  db_2_simultaneous          forearms  https://apilyfta.com/static/GymvisualPNG/03691...\n",
      "33          1833                  Dumbbell Revers grip Biceps Curl  db_2_simultaneous          forearms  https://apilyfta.com/static/GymvisualPNG/03821...\n",
      "24           165                           Revers grip Biceps Curl  db_2_simultaneous  biceps, forearms  https://apilyfta.com/static/GymvisualPNG/03821...\n",
      "26          1836                       Dumbbell Reverse Wrist Curl  db_2_simultaneous          forearms  https://apilyfta.com/static/GymvisualPNG/03851...\n",
      "32           167                                Reverse Wrist Curl  db_2_simultaneous          forearms  https://apilyfta.com/static/GymvisualPNG/03851...\n",
      "220         1840                   Dumbbell Seated Bench Extension    db_1_both_sides           triceps  https://apilyfta.com/static/GymvisualPNG/03891...\n",
      "189          168                            Seated Bench Extension    db_1_both_sides           triceps  https://apilyfta.com/static/GymvisualPNG/03891...\n",
      "318          171                              Seated Lateral Raise  db_2_simultaneous         shoulders  https://apilyfta.com/static/GymvisualPNG/03951...\n",
      "333         1846                    Dumbbell Seated Lateral Raise   db_2_simultaneous         shoulders  https://apilyfta.com/static/GymvisualPNG/03951...\n",
      "25          1852               Dumbbell Seated Palms Up Wrist Curl  db_2_simultaneous          forearms  https://apilyfta.com/static/GymvisualPNG/04011...\n",
      "29           173                        Seated Palms Up Wrist Curl  db_2_simultaneous          forearms  https://apilyfta.com/static/GymvisualPNG/04011...\n",
      "275         1853                     Dumbbell Seated Preacher Curl  db_2_simultaneous            biceps  https://apilyfta.com/static/GymvisualPNG/04021...\n",
      "295          174                              Seated Preacher Curl  db_2_simultaneous            biceps  https://apilyfta.com/static/GymvisualPNG/04021...\n",
      "313          176                             Seated Shoulder Press  db_2_simultaneous         shoulders  https://apilyfta.com/static/GymvisualPNG/04051...\n",
      "316         1856                    Dumbbell Seated Shoulder Press  db_2_simultaneous         shoulders  https://apilyfta.com/static/GymvisualPNG/04051...\n",
      "538          177                                             Shrug  db_2_simultaneous              back  https://apilyfta.com/static/GymvisualPNG/04061...\n",
      "540         1857                                    Dumbbell Shrug  db_2_simultaneous              back  https://apilyfta.com/static/GymvisualPNG/04061...\n",
      "292         1867                     Dumbbell Standing Biceps Curl  db_2_simultaneous            biceps  https://apilyfta.com/static/GymvisualPNG/04161...\n",
      "278          181                              Standing Biceps Curl  db_2_simultaneous            biceps  https://apilyfta.com/static/GymvisualPNG/04161...\n",
      "95           182                               Standing Calf Raise  db_2_simultaneous            calves  https://apilyfta.com/static/GymvisualPNG/04171...\n",
      "96          1868                      Dumbbell Standing Calf Raise  db_2_simultaneous            calves  https://apilyfta.com/static/GymvisualPNG/04171...\n",
      "214         1881               Dumbbell Standing Triceps Extension    db_1_both_sides           triceps  https://apilyfta.com/static/GymvisualPNG/04301...\n",
      "209          187                        Standing Triceps Extension    db_1_both_sides           triceps  https://apilyfta.com/static/GymvisualPNG/04301...\n",
      "287         1890                             Dumbbell Zottman Curl  db_2_simultaneous            biceps  https://apilyfta.com/static/GymvisualPNG/04391...\n",
      "260          191                                      Zottman Curl  db_2_simultaneous            biceps  https://apilyfta.com/static/GymvisualPNG/04391...\n",
      "58           195                                 Reverse Grip Curl        weight_reps          forearms  https://apilyfta.com/static/GymvisualPNG/04511...\n",
      "57          1902                      EZ Barbell Reverse Grip Curl        weight_reps          forearms  https://apilyfta.com/static/GymvisualPNG/04511...\n",
      "502         2312                                  Cable seated row        weight_reps              back  https://apilyfta.com/static/GymvisualPNG/08611...\n",
      "499          270                                        seated row        weight_reps              back  https://apilyfta.com/static/GymvisualPNG/08611...\n",
      "256         2319                                        Cable Curl        weight_reps            biceps  https://apilyfta.com/static/GymvisualPNG/08681...\n",
      "262          272                                              Curl        weight_reps            biceps  https://apilyfta.com/static/GymvisualPNG/08681...\n"
     ]
    }
   ],
   "source": [
    "import pandas as pd\n",
    "\n",
    "df = pd.read_csv('exercise_dedup_renamed.csv')\n",
    "\n",
    "# Cari URL yang muncul lebih dari sekali\n",
    "duplicate_urls = df['exercise_image'][df['exercise_image'].duplicated(keep=False)]\n",
    "\n",
    "# Filter baris yang memiliki URL duplikat\n",
    "df_duplicates = df[df['exercise_image'].isin(duplicate_urls)]\n",
    "\n",
    "# Urutkan berdasarkan URL gambar\n",
    "df_duplicates_sorted = df_duplicates.sort_values(by='exercise_image')\n",
    "\n",
    "# Tampilkan seluruh kolom dan seluruh baris (tanpa batas)\n",
    "pd.set_option('display.max_rows', None)\n",
    "pd.set_option('display.max_columns', None)\n",
    "pd.set_option('display.width', 1000)\n",
    "\n",
    "print(df_duplicates_sorted)"
   ]
  },
  {
   "cell_type": "code",
   "execution_count": 2,
   "id": "73332515",
   "metadata": {},
   "outputs": [
    {
     "name": "stdout",
     "output_type": "stream",
     "text": [
      "Dataset bersih disimpan sebagai 'exercise_final_with_equipment.csv'\n"
     ]
    }
   ],
   "source": [
    "import pandas as pd\n",
    "import re\n",
    "\n",
    "# Baca data\n",
    "df = pd.read_csv('exercise_dedup_renamed.csv')\n",
    "\n",
    "# Fungsi untuk ekstrak equipment dari nama latihan atau url\n",
    "def extract_equipment(text):\n",
    "    text = text.lower()\n",
    "    equipment_keywords = {\n",
    "        'barbell': ['barbell'],\n",
    "        'dumbbell': ['dumbbell', 'db_'],\n",
    "        'body weight': ['bodyweight', 'push up', 'pull up', 'dip', 'plank'],\n",
    "        'kettlebell': ['kettlebell'],\n",
    "        'ez barbell': ['ez bar'],\n",
    "        'trap bar': ['trap bar'],\n",
    "        'cable': ['cable', 'pulldown', 'row', 'lat pull', 'seated row', 'machine row'],\n",
    "        'leverage machine': ['leverage'],\n",
    "        'sled machine': ['sled'],\n",
    "        'smith machine': ['smith'],\n",
    "        'power sled': ['power sled'],\n",
    "        'weighted': ['weighted', 'plate'],\n",
    "        'wheel roller': ['wheel', 'roller'],\n",
    "    }\n",
    "    for equip, keywords in equipment_keywords.items():\n",
    "        for kw in keywords:\n",
    "            if kw in text:\n",
    "                return equip\n",
    "    return 'unknown'\n",
    "\n",
    "# Gabungkan duplikat berdasarkan image, pilih nama lebih panjang\n",
    "df = df.sort_values(by='exercise_name', key=lambda x: x.str.len(), ascending=False)\n",
    "df = df.drop_duplicates(subset='exercise_image', keep='first')\n",
    "\n",
    "# Tambahkan kolom equipment\n",
    "df['equipment'] = df.apply(lambda row: extract_equipment(row['exercise_name'] + ' ' + str(row['exercise_image'])), axis=1)\n",
    "\n",
    "# Terapkan gaya penamaan: Equipment + Form\n",
    "def style_name(row):\n",
    "    equip = row['equipment']\n",
    "    name = row['exercise_name']\n",
    "    if equip == 'unknown':\n",
    "        return name.strip().title()\n",
    "    else:\n",
    "        # Hilangkan kata equipment dari nama jika sudah ada\n",
    "        name_clean = re.sub(rf'\\b{equip}\\b', '', name, flags=re.IGNORECASE).strip()\n",
    "        name_clean = re.sub(r'\\s+', ' ', name_clean).strip()\n",
    "        return f\"{equip.title()} + {name_clean.title()}\"\n",
    "\n",
    "df['exercise_name'] = df.apply(style_name, axis=1)\n",
    "\n",
    "# Simpan hasil\n",
    "df.to_csv('exercise_final_with_equipment.csv', index=False)\n",
    "print(\"Dataset bersih disimpan sebagai 'exercise_final_with_equipment.csv'\")"
   ]
  },
  {
   "cell_type": "code",
   "execution_count": 3,
   "id": "763f1406",
   "metadata": {},
   "outputs": [
    {
     "name": "stdout",
     "output_type": "stream",
     "text": [
      "Total baris data sebelumnya       : 648\n",
      "Total baris data file baru       : 602\n",
      "Jumlah baris dengan equipment 'unknown': 125\n"
     ]
    }
   ],
   "source": [
    "import pandas as pd\n",
    "\n",
    "# Baca file lama dan file baru\n",
    "df_old = pd.read_csv('exercise_dedup_renamed.csv')\n",
    "df_new = pd.read_csv('exercise_final_with_equipment.csv')\n",
    "\n",
    "# Hitung informasi\n",
    "total_old = len(df_old)\n",
    "total_new = len(df_new)\n",
    "unknown_equipment = (df_new['equipment'] == 'unknown').sum()\n",
    "\n",
    "# Tampilkan rekap\n",
    "print(f\"Total baris data sebelumnya       : {total_old}\")\n",
    "print(f\"Total baris data file baru       : {total_new}\")\n",
    "print(f\"Jumlah baris dengan equipment 'unknown': {unknown_equipment}\")"
   ]
  },
  {
   "cell_type": "code",
   "execution_count": null,
   "id": "0b9edd5a",
   "metadata": {},
   "outputs": [],
   "source": [
    "%pip install openpyxl"
   ]
  },
  {
   "cell_type": "code",
   "execution_count": 6,
   "id": "912ad667",
   "metadata": {},
   "outputs": [
    {
     "name": "stdout",
     "output_type": "stream",
     "text": [
      "File 'exercise_equipment_unknown.xlsx' berhasil dibuat untuk pemantauan data unknown.\n"
     ]
    }
   ],
   "source": [
    "import pandas as pd\n",
    "\n",
    "df = pd.read_csv('exercise_final_with_equipment.csv')\n",
    "\n",
    "df_unknown = df[df['equipment'] == 'unknown']\n",
    "\n",
    "df_unknown.to_excel('exercise_equipment_unknown.xlsx', index=False)\n",
    "\n",
    "print(\"File 'exercise_equipment_unknown.xlsx' berhasil dibuat untuk pemantauan data unknown.\")"
   ]
  },
  {
   "cell_type": "code",
   "execution_count": 9,
   "id": "8c2de7e7",
   "metadata": {},
   "outputs": [
    {
     "name": "stdout",
     "output_type": "stream",
     "text": [
      "Dataset bersih disimpan sebagai 'exercise_final_with_equipment2.csv'\n"
     ]
    }
   ],
   "source": [
    "import pandas as pd\n",
    "import re\n",
    "\n",
    "# Baca data\n",
    "df = pd.read_csv('exercise_dedup_renamed.csv')\n",
    "\n",
    "# Definisi kata kunci equipment dengan frasa panjang dulu, baru kata pendek\n",
    "equipment_map = {\n",
    "    'leverage machine': [\n",
    "        'lever machine', 'leverage machine', 'leg press machine', 'leg press', 'seated leg press',\n",
    "        'lever seated', 'lever squat', 'lever calf', 'lever leg', 'lever chest', 'lever pec deck',\n",
    "        'lever pec', 'lever curl', 'lever row', 'lever lat', 'lever back', 'lever shoulder',\n",
    "        'machine press', 'machine row', 'machine curl', 'machine extension'\n",
    "    ],\n",
    "    'smith machine': [\n",
    "        'smith machine', 'smith', 'smith squat', 'smith press', 'smith deadlift',\n",
    "        'smith bench', 'smith curl'\n",
    "    ],\n",
    "    'cable': [\n",
    "        'cable machine', 'cable', 'cable row', 'cable pulldown', 'cable crossover',\n",
    "        'cable press', 'cable fly', 'cable curl', 'cable extension', 'cable lat',\n",
    "        'cable seated', 'cable standing', 'cable triceps', 'cable biceps',\n",
    "        'pulldown', 'pullover', 'machine row', 'rowing machine'\n",
    "    ],\n",
    "    'barbell': [\n",
    "        'barbell', 'bar bell', 'barbell squat', 'barbell deadlift', 'barbell bench',\n",
    "        'barbell curl', 'barbell row', 'barbell press', 'barbell clean',\n",
    "        'barbell snatch', 'barbell front squat', 'barbell good morning'\n",
    "    ],\n",
    "    'dumbbell': [\n",
    "        'dumbbell', 'db_', 'dumb bell', 'dumbbell curl', 'dumbbell press', 'dumbbell row',\n",
    "        'dumbbell fly', 'dumbbell lunge', 'dumbbell shrug', 'dumbbell extension',\n",
    "        'dumbbell kickback', 'dumbbell raise', 'dumbbell hammer'\n",
    "    ],\n",
    "    'body weight': [\n",
    "        'bodyweight', 'body weight', 'push up', 'pull up', 'dip', 'plank', 'chin up',\n",
    "        'bodyweight squat', 'bodyweight dip', 'bodyweight lunge', 'bodyweight raise',\n",
    "        'calisthenics', 'handstand', 'burpee', 'jump squat'\n",
    "    ],\n",
    "    'kettlebell': [\n",
    "        'kettlebell', 'kettle bell', 'kb swing', 'kettlebell swing', 'kettlebell snatch',\n",
    "        'kettlebell clean', 'kettlebell press', 'kettlebell goblet', 'kettlebell deadlift'\n",
    "    ],\n",
    "    'ez barbell': [\n",
    "        'ez bar', 'ez curl bar', 'ez barbell', 'ez curl', 'ez-bar'\n",
    "    ],\n",
    "    'trap bar': [\n",
    "        'trap bar', 'trapbar', 'trap bar deadlift', 'trap bar shrug'\n",
    "    ],\n",
    "    'sled machine': [\n",
    "        'sled', 'sled push', 'sled machine', 'weighted sled', 'power sled'\n",
    "    ],\n",
    "    'power sled': [\n",
    "        'power sled', 'sled power'\n",
    "    ],\n",
    "    'weighted': [\n",
    "        'weighted', 'weight plate', 'plate loaded', 'plate', 'weight', 'weighted vest',\n",
    "        'weighted dip', 'weighted pullup', 'weighted pushup'\n",
    "    ],\n",
    "    'wheel roller': [\n",
    "        'wheel', 'roller', 'ab wheel', 'ab roller', 'foam roller', 'massage roller'\n",
    "    ],\n",
    "}\n",
    "\n",
    "\n",
    "# Gabungkan semua kolom potensial jadi satu teks untuk pencarian kata kunci\n",
    "def extract_equipment(row):\n",
    "    combined_text = ' '.join([\n",
    "        str(row.get('exercise_name', '')).lower(),\n",
    "        str(row.get('exercise_image', '')).lower(),\n",
    "        str(row.get('exercise_type', '')).lower(),\n",
    "        str(row.get('body_part', '')).lower(),\n",
    "    ])\n",
    "    \n",
    "    for equip, keywords in equipment_map.items():\n",
    "        for kw in keywords:\n",
    "            if kw in combined_text:\n",
    "                return equip\n",
    "    return 'unknown'\n",
    "\n",
    "# Gabungkan duplikat berdasarkan image, pilih nama lebih panjang\n",
    "df = df.sort_values(by='exercise_name', key=lambda x: x.str.len(), ascending=False)\n",
    "df = df.drop_duplicates(subset='exercise_image', keep='first')\n",
    "\n",
    "# Tambahkan kolom equipment dengan metode baru\n",
    "df['equipment'] = df.apply(extract_equipment, axis=1)\n",
    "\n",
    "# Terapkan gaya penamaan: Equipment + Form\n",
    "def style_name(row):\n",
    "    equip = row['equipment']\n",
    "    name = row['exercise_name']\n",
    "    if equip == 'unknown':\n",
    "        return name.strip().title()\n",
    "    else:\n",
    "        # Hilangkan kata equipment dari nama jika sudah ada\n",
    "        name_clean = re.sub(rf'\\b{re.escape(equip)}\\b', '', name, flags=re.IGNORECASE).strip()\n",
    "        name_clean = re.sub(r'\\s+', ' ', name_clean).strip()\n",
    "        return f\"{equip.title()} + {name_clean.title()}\"\n",
    "\n",
    "df['exercise_name'] = df.apply(style_name, axis=1)\n",
    "\n",
    "# Simpan hasil\n",
    "df.to_csv('exercise_final_with_equipment2.csv', index=False)\n",
    "print(\"Dataset bersih disimpan sebagai 'exercise_final_with_equipment2.csv'\")"
   ]
  },
  {
   "cell_type": "code",
   "execution_count": 1,
   "id": "882eea09",
   "metadata": {},
   "outputs": [
    {
     "name": "stdout",
     "output_type": "stream",
     "text": [
      "Total baris data sebelumnya       : 648\n",
      "Total baris data file baru       : 602\n",
      "Jumlah baris dengan equipment 'unknown': 28\n"
     ]
    }
   ],
   "source": [
    "import pandas as pd\n",
    "\n",
    "# Baca file lama dan file baru\n",
    "df_old = pd.read_csv('exercise_dedup_renamed.csv')\n",
    "df_new = pd.read_csv('exercise_final_with_equipment2.csv')\n",
    "\n",
    "# Hitung informasi\n",
    "total_old = len(df_old)\n",
    "total_new = len(df_new)\n",
    "unknown_equipment = (df_new['equipment'] == 'unknown').sum()\n",
    "\n",
    "# Tampilkan rekap\n",
    "print(f\"Total baris data sebelumnya       : {total_old}\")\n",
    "print(f\"Total baris data file baru       : {total_new}\")\n",
    "print(f\"Jumlah baris dengan equipment 'unknown': {unknown_equipment}\")"
   ]
  },
  {
   "cell_type": "code",
   "execution_count": 11,
   "id": "3f691bee",
   "metadata": {},
   "outputs": [
    {
     "name": "stdout",
     "output_type": "stream",
     "text": [
      "File 'exercise_equipment_unknown.xlsx' berhasil dibuat untuk pemantauan data unknown.\n"
     ]
    }
   ],
   "source": [
    "import pandas as pd\n",
    "\n",
    "df = pd.read_csv('exercise_final_with_equipment2.csv')\n",
    "\n",
    "df_unknown = df[df['equipment'] == 'unknown']\n",
    "\n",
    "df_unknown.to_excel('exercise_equipment_unknown2.xlsx', index=False)\n",
    "\n",
    "print(\"File 'exercise_equipment_unknown.xlsx' berhasil dibuat untuk pemantauan data unknown.\")"
   ]
  }
 ],
 "metadata": {
  "kernelspec": {
   "display_name": "ridwanafazn",
   "language": "python",
   "name": "ridwanafazn"
  },
  "language_info": {
   "codemirror_mode": {
    "name": "ipython",
    "version": 3
   },
   "file_extension": ".py",
   "mimetype": "text/x-python",
   "name": "python",
   "nbconvert_exporter": "python",
   "pygments_lexer": "ipython3",
   "version": "3.12.2"
  }
 },
 "nbformat": 4,
 "nbformat_minor": 5
}
